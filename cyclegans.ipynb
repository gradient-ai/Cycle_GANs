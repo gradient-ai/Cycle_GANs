{
 "cells": [
  {
   "cell_type": "code",
   "execution_count": 3,
   "id": "374a633a-84ea-46b8-8a9d-b8d388f245e6",
   "metadata": {
    "execution": {
     "iopub.execute_input": "2022-06-23T20:47:47.175965Z",
     "iopub.status.busy": "2022-06-23T20:47:47.175707Z",
     "iopub.status.idle": "2022-06-23T20:48:04.221995Z",
     "shell.execute_reply": "2022-06-23T20:48:04.220966Z",
     "shell.execute_reply.started": "2022-06-23T20:47:47.175936Z"
    }
   },
   "outputs": [
    {
     "name": "stdout",
     "output_type": "stream",
     "text": [
      "Collecting git+https://www.github.com/keras-team/keras-contrib.git\n",
      "  Cloning https://www.github.com/keras-team/keras-contrib.git to /tmp/pip-req-build-f1mr52ta\n",
      "  Running command git clone --filter=blob:none --quiet https://www.github.com/keras-team/keras-contrib.git /tmp/pip-req-build-f1mr52ta\n",
      "  warning: redirecting to https://github.com/keras-team/keras-contrib.git/\n",
      "  Resolved https://www.github.com/keras-team/keras-contrib.git to commit 3fc5ef709e061416f4bc8a92ca3750c824b5d2b0\n",
      "  Preparing metadata (setup.py) ... \u001b[?25ldone\n",
      "\u001b[?25hRequirement already satisfied: keras in /usr/local/lib/python3.8/dist-packages (from keras-contrib==2.0.8) (2.7.0)\n",
      "Building wheels for collected packages: keras-contrib\n",
      "  Building wheel for keras-contrib (setup.py) ... \u001b[?25ldone\n",
      "\u001b[?25h  Created wheel for keras-contrib: filename=keras_contrib-2.0.8-py3-none-any.whl size=101077 sha256=5a1d944818d6382f982a69634a7f4177241ae63ece7e601836aa67f41323e1b3\n",
      "  Stored in directory: /tmp/pip-ephem-wheel-cache-kycxyi73/wheels/67/d2/f4/96ae3c3c62d1e05abfc8860ad0c1207794726d44ebbbb547f3\n",
      "Successfully built keras-contrib\n",
      "Installing collected packages: keras-contrib\n",
      "Successfully installed keras-contrib-2.0.8\n",
      "\u001b[33mWARNING: Running pip as the 'root' user can result in broken permissions and conflicting behaviour with the system package manager. It is recommended to use a virtual environment instead: https://pip.pypa.io/warnings/venv\u001b[0m\u001b[33m\n",
      "\u001b[0m\u001b[33mWARNING: You are using pip version 22.0.3; however, version 22.1.2 is available.\n",
      "You should consider upgrading via the '/usr/bin/python -m pip install --upgrade pip' command.\u001b[0m\u001b[33m\n",
      "\u001b[0m"
     ]
    }
   ],
   "source": [
    "!pip install git+https://www.github.com/keras-team/keras-contrib.git"
   ]
  },
  {
   "cell_type": "code",
   "execution_count": 4,
   "id": "fdbb3e9d-f831-4548-915d-3f200011dbd6",
   "metadata": {
    "execution": {
     "iopub.execute_input": "2022-06-23T20:48:04.511654Z",
     "iopub.status.busy": "2022-06-23T20:48:04.511401Z",
     "iopub.status.idle": "2022-06-23T20:48:06.502932Z",
     "shell.execute_reply": "2022-06-23T20:48:06.501456Z",
     "shell.execute_reply.started": "2022-06-23T20:48:04.511626Z"
    }
   },
   "outputs": [],
   "source": [
    "import tensorflow as tf\n",
    "from tensorflow.keras.optimizers import Adam\n",
    "from tensorflow.keras.initializers import RandomNormal\n",
    "from tensorflow.keras.models import Model\n",
    "from tensorflow.keras.layers import Input, Conv2D, LeakyReLU, Conv2DTranspose\n",
    "from tensorflow.keras.layers import Activation, Concatenate, BatchNormalization\n",
    "from keras_contrib.layers.normalization.instancenormalization import InstanceNormalization\n",
    "from tensorflow.keras.utils import plot_model\n",
    "import tensorflow_datasets as tfds\n",
    "\n",
    "import matplotlib.pyplot as plt\n",
    "from IPython.display import clear_output\n",
    "import time\n",
    "import os\n",
    "\n",
    "AUTOTUNE = tf.data.AUTOTUNE"
   ]
  },
  {
   "cell_type": "code",
   "execution_count": 5,
   "id": "32bd4fd8-fa96-41a6-a6c7-8b7baaa51990",
   "metadata": {
    "execution": {
     "iopub.execute_input": "2022-06-23T20:48:06.506290Z",
     "iopub.status.busy": "2022-06-23T20:48:06.505916Z",
     "iopub.status.idle": "2022-06-23T20:48:25.094074Z",
     "shell.execute_reply": "2022-06-23T20:48:25.093150Z",
     "shell.execute_reply.started": "2022-06-23T20:48:06.506243Z"
    }
   },
   "outputs": [
    {
     "name": "stderr",
     "output_type": "stream",
     "text": [
      "2022-06-23 20:48:06.543151: W tensorflow/core/platform/cloud/google_auth_provider.cc:184] All attempts to get a Google authentication bearer token failed, returning an empty token. Retrieving token from files failed with \"NOT_FOUND: Could not locate the credentials file.\". Retrieving token from GCE failed with \"FAILED_PRECONDITION: Error executing an HTTP request: libcurl code 6 meaning 'Couldn't resolve host name', error details: Could not resolve host: metadata\".\n"
     ]
    },
    {
     "name": "stdout",
     "output_type": "stream",
     "text": [
      "\u001b[1mDownloading and preparing dataset cycle_gan/horse2zebra/2.0.0 (download: 111.45 MiB, generated: Unknown size, total: 111.45 MiB) to /root/tensorflow_datasets/cycle_gan/horse2zebra/2.0.0...\u001b[0m\n"
     ]
    },
    {
     "data": {
      "application/vnd.jupyter.widget-view+json": {
       "model_id": "dfe0cd30115147fd9fbf619aa05a817e",
       "version_major": 2,
       "version_minor": 0
      },
      "text/plain": [
       "Dl Completed...: 0 url [00:00, ? url/s]"
      ]
     },
     "metadata": {},
     "output_type": "display_data"
    },
    {
     "data": {
      "application/vnd.jupyter.widget-view+json": {
       "model_id": "171aab4241094092af54275cdd54f1b1",
       "version_major": 2,
       "version_minor": 0
      },
      "text/plain": [
       "Dl Size...: 0 MiB [00:00, ? MiB/s]"
      ]
     },
     "metadata": {},
     "output_type": "display_data"
    },
    {
     "data": {
      "application/vnd.jupyter.widget-view+json": {
       "model_id": "5155df422b3d4ac88e59ba0696b5fe69",
       "version_major": 2,
       "version_minor": 0
      },
      "text/plain": [
       "Extraction completed...: 0 file [00:00, ? file/s]"
      ]
     },
     "metadata": {},
     "output_type": "display_data"
    },
    {
     "name": "stdout",
     "output_type": "stream",
     "text": [
      "\n",
      "\n",
      "\n"
     ]
    },
    {
     "data": {
      "application/vnd.jupyter.widget-view+json": {
       "model_id": "e93a7d0113394cf9bc001fabf2f71e09",
       "version_major": 2,
       "version_minor": 0
      },
      "text/plain": [
       "0 examples [00:00, ? examples/s]"
      ]
     },
     "metadata": {},
     "output_type": "display_data"
    },
    {
     "name": "stdout",
     "output_type": "stream",
     "text": [
      "Shuffling and writing examples to /root/tensorflow_datasets/cycle_gan/horse2zebra/2.0.0.incomplete3A9K8Y/cycle_gan-trainA.tfrecord\n"
     ]
    },
    {
     "data": {
      "application/vnd.jupyter.widget-view+json": {
       "model_id": "0cd1178286ff47e4b2d2978c710e6bbc",
       "version_major": 2,
       "version_minor": 0
      },
      "text/plain": [
       "  0%|          | 0/1067 [00:00<?, ? examples/s]"
      ]
     },
     "metadata": {},
     "output_type": "display_data"
    },
    {
     "data": {
      "application/vnd.jupyter.widget-view+json": {
       "model_id": "3543f58af0ab4042a4cbe30df620fecb",
       "version_major": 2,
       "version_minor": 0
      },
      "text/plain": [
       "0 examples [00:00, ? examples/s]"
      ]
     },
     "metadata": {},
     "output_type": "display_data"
    },
    {
     "name": "stdout",
     "output_type": "stream",
     "text": [
      "Shuffling and writing examples to /root/tensorflow_datasets/cycle_gan/horse2zebra/2.0.0.incomplete3A9K8Y/cycle_gan-trainB.tfrecord\n"
     ]
    },
    {
     "data": {
      "application/vnd.jupyter.widget-view+json": {
       "model_id": "ad42332cb3224551a82c9867f62706d2",
       "version_major": 2,
       "version_minor": 0
      },
      "text/plain": [
       "  0%|          | 0/1334 [00:00<?, ? examples/s]"
      ]
     },
     "metadata": {},
     "output_type": "display_data"
    },
    {
     "data": {
      "application/vnd.jupyter.widget-view+json": {
       "model_id": "91b1616f78944225b29615eee4ff6926",
       "version_major": 2,
       "version_minor": 0
      },
      "text/plain": [
       "0 examples [00:00, ? examples/s]"
      ]
     },
     "metadata": {},
     "output_type": "display_data"
    },
    {
     "name": "stdout",
     "output_type": "stream",
     "text": [
      "Shuffling and writing examples to /root/tensorflow_datasets/cycle_gan/horse2zebra/2.0.0.incomplete3A9K8Y/cycle_gan-testA.tfrecord\n"
     ]
    },
    {
     "data": {
      "application/vnd.jupyter.widget-view+json": {
       "model_id": "5cf5f72281d24fa695ce3c4940f634fa",
       "version_major": 2,
       "version_minor": 0
      },
      "text/plain": [
       "  0%|          | 0/120 [00:00<?, ? examples/s]"
      ]
     },
     "metadata": {},
     "output_type": "display_data"
    },
    {
     "data": {
      "application/vnd.jupyter.widget-view+json": {
       "model_id": "0516cd5d6ced431ba6c561b271047d87",
       "version_major": 2,
       "version_minor": 0
      },
      "text/plain": [
       "0 examples [00:00, ? examples/s]"
      ]
     },
     "metadata": {},
     "output_type": "display_data"
    },
    {
     "name": "stdout",
     "output_type": "stream",
     "text": [
      "Shuffling and writing examples to /root/tensorflow_datasets/cycle_gan/horse2zebra/2.0.0.incomplete3A9K8Y/cycle_gan-testB.tfrecord\n"
     ]
    },
    {
     "data": {
      "application/vnd.jupyter.widget-view+json": {
       "model_id": "09691b2bd1344cb3aeb6ed4204dfa8b6",
       "version_major": 2,
       "version_minor": 0
      },
      "text/plain": [
       "  0%|          | 0/140 [00:00<?, ? examples/s]"
      ]
     },
     "metadata": {},
     "output_type": "display_data"
    },
    {
     "name": "stdout",
     "output_type": "stream",
     "text": [
      "\u001b[1mDataset cycle_gan downloaded and prepared to /root/tensorflow_datasets/cycle_gan/horse2zebra/2.0.0. Subsequent calls will reuse this data.\u001b[0m\n"
     ]
    },
    {
     "name": "stderr",
     "output_type": "stream",
     "text": [
      "2022-06-23 20:48:21.087434: I tensorflow/stream_executor/cuda/cuda_gpu_executor.cc:1052] successful NUMA node read from SysFS had negative value (-1), but there must be at least one NUMA node, so returning NUMA node zero\n",
      "2022-06-23 20:48:21.473630: I tensorflow/stream_executor/cuda/cuda_gpu_executor.cc:1052] successful NUMA node read from SysFS had negative value (-1), but there must be at least one NUMA node, so returning NUMA node zero\n",
      "2022-06-23 20:48:21.474194: I tensorflow/stream_executor/cuda/cuda_gpu_executor.cc:1052] successful NUMA node read from SysFS had negative value (-1), but there must be at least one NUMA node, so returning NUMA node zero\n",
      "2022-06-23 20:48:21.478171: I tensorflow/stream_executor/cuda/cuda_gpu_executor.cc:1052] successful NUMA node read from SysFS had negative value (-1), but there must be at least one NUMA node, so returning NUMA node zero\n",
      "2022-06-23 20:48:21.478627: I tensorflow/stream_executor/cuda/cuda_gpu_executor.cc:1052] successful NUMA node read from SysFS had negative value (-1), but there must be at least one NUMA node, so returning NUMA node zero\n",
      "2022-06-23 20:48:21.479111: I tensorflow/stream_executor/cuda/cuda_gpu_executor.cc:1052] successful NUMA node read from SysFS had negative value (-1), but there must be at least one NUMA node, so returning NUMA node zero\n",
      "2022-06-23 20:48:24.696599: I tensorflow/stream_executor/cuda/cuda_gpu_executor.cc:1052] successful NUMA node read from SysFS had negative value (-1), but there must be at least one NUMA node, so returning NUMA node zero\n",
      "2022-06-23 20:48:24.697001: I tensorflow/stream_executor/cuda/cuda_gpu_executor.cc:1052] successful NUMA node read from SysFS had negative value (-1), but there must be at least one NUMA node, so returning NUMA node zero\n",
      "2022-06-23 20:48:24.697310: I tensorflow/stream_executor/cuda/cuda_gpu_executor.cc:1052] successful NUMA node read from SysFS had negative value (-1), but there must be at least one NUMA node, so returning NUMA node zero\n",
      "2022-06-23 20:48:24.698083: I tensorflow/core/common_runtime/gpu/gpu_device.cc:1525] Created device /job:localhost/replica:0/task:0/device:GPU:0 with 7251 MB memory:  -> device: 0, name: Quadro P4000, pci bus id: 0000:00:05.0, compute capability: 6.1\n"
     ]
    }
   ],
   "source": [
    "dataset, metadata = tfds.load('cycle_gan/horse2zebra',\n",
    "                              with_info=True, as_supervised=True)\n",
    "\n",
    "train_horses, train_zebras = dataset['trainA'], dataset['trainB']\n",
    "test_horses, test_zebras = dataset['testA'], dataset['testB']"
   ]
  },
  {
   "cell_type": "code",
   "execution_count": 6,
   "id": "b40ab91d-d33b-4d03-add2-e4e607cabb8e",
   "metadata": {
    "execution": {
     "iopub.execute_input": "2022-06-23T20:48:25.097702Z",
     "iopub.status.busy": "2022-06-23T20:48:25.097447Z",
     "iopub.status.idle": "2022-06-23T20:48:25.103329Z",
     "shell.execute_reply": "2022-06-23T20:48:25.102418Z",
     "shell.execute_reply.started": "2022-06-23T20:48:25.097668Z"
    }
   },
   "outputs": [],
   "source": [
    "BUFFER_SIZE = 1000\n",
    "BATCH_SIZE = 1\n",
    "IMG_WIDTH = 256\n",
    "IMG_HEIGHT = 256"
   ]
  },
  {
   "cell_type": "code",
   "execution_count": 7,
   "id": "99d5acc2-066b-4292-a79f-46838c215c2b",
   "metadata": {
    "execution": {
     "iopub.execute_input": "2022-06-23T20:50:23.303377Z",
     "iopub.status.busy": "2022-06-23T20:50:23.303087Z",
     "iopub.status.idle": "2022-06-23T20:50:23.310719Z",
     "shell.execute_reply": "2022-06-23T20:50:23.309688Z",
     "shell.execute_reply.started": "2022-06-23T20:50:23.303326Z"
    }
   },
   "outputs": [],
   "source": [
    "def random_crop(image):\n",
    "    cropped_image = tf.image.random_crop(\n",
    "      image, size=[IMG_HEIGHT, IMG_WIDTH, 3])\n",
    "    \n",
    "    return cropped_image\n",
    "\n",
    "# normalizing the images to [-1, 1]\n",
    "def normalize(image):\n",
    "    image = tf.cast(image, tf.float32)\n",
    "    image = (image / 127.5) - 1\n",
    "    return image\n",
    "\n",
    "def random_jitter(image):\n",
    "    # resizing to 286 x 286 x 3\n",
    "    image = tf.image.resize(image, [286, 286],\n",
    "                          method=tf.image.ResizeMethod.NEAREST_NEIGHBOR)\n",
    "\n",
    "    # randomly cropping to 256 x 256 x 3\n",
    "    image = random_crop(image)\n",
    "\n",
    "    # random mirroring\n",
    "    image = tf.image.random_flip_left_right(image)\n",
    "\n",
    "    return image\n",
    "\n",
    "def preprocess_image_train(image, label):\n",
    "    image = random_jitter(image)\n",
    "    image = normalize(image)\n",
    "    return image\n",
    "\n",
    "def preprocess_image_test(image, label):\n",
    "    image = normalize(image)\n",
    "    return image"
   ]
  },
  {
   "cell_type": "code",
   "execution_count": 8,
   "id": "b7a7f8a9-5c84-4441-bb40-21f5d93dee94",
   "metadata": {
    "execution": {
     "iopub.execute_input": "2022-06-23T20:50:32.141937Z",
     "iopub.status.busy": "2022-06-23T20:50:32.141632Z",
     "iopub.status.idle": "2022-06-23T20:50:35.043963Z",
     "shell.execute_reply": "2022-06-23T20:50:35.042924Z",
     "shell.execute_reply.started": "2022-06-23T20:50:32.141902Z"
    }
   },
   "outputs": [
    {
     "name": "stderr",
     "output_type": "stream",
     "text": [
      "2022-06-23 20:50:33.717602: W tensorflow/core/kernels/data/cache_dataset_ops.cc:768] The calling iterator did not fully read the dataset being cached. In order to avoid unexpected truncation of the dataset, the partially cached contents of the dataset  will be discarded. This can happen if you have an input pipeline similar to `dataset.cache().take(k).repeat()`. You should use `dataset.take(k).cache().repeat()` instead.\n",
      "2022-06-23 20:50:34.896208: W tensorflow/core/kernels/data/cache_dataset_ops.cc:768] The calling iterator did not fully read the dataset being cached. In order to avoid unexpected truncation of the dataset, the partially cached contents of the dataset  will be discarded. This can happen if you have an input pipeline similar to `dataset.cache().take(k).repeat()`. You should use `dataset.take(k).cache().repeat()` instead.\n"
     ]
    }
   ],
   "source": [
    "train_horses = train_horses.cache().map(\n",
    "    preprocess_image_train, num_parallel_calls=AUTOTUNE).shuffle(\n",
    "    BUFFER_SIZE).batch(BATCH_SIZE)\n",
    "\n",
    "train_zebras = train_zebras.cache().map(\n",
    "    preprocess_image_train, num_parallel_calls=AUTOTUNE).shuffle(\n",
    "    BUFFER_SIZE).batch(BATCH_SIZE)\n",
    "\n",
    "test_horses = test_horses.map(\n",
    "    preprocess_image_test, num_parallel_calls=AUTOTUNE).cache().shuffle(\n",
    "    BUFFER_SIZE).batch(BATCH_SIZE)\n",
    "\n",
    "test_zebras = test_zebras.map(\n",
    "    preprocess_image_test, num_parallel_calls=AUTOTUNE).cache().shuffle(\n",
    "    BUFFER_SIZE).batch(BATCH_SIZE)\n",
    "    \n",
    "sample_horse = next(iter(train_horses))\n",
    "sample_zebra = next(iter(train_zebras))"
   ]
  },
  {
   "cell_type": "code",
   "execution_count": 13,
   "id": "f005f815-fb13-4734-b004-f93153230396",
   "metadata": {
    "execution": {
     "iopub.execute_input": "2022-06-23T20:55:03.530471Z",
     "iopub.status.busy": "2022-06-23T20:55:03.530222Z",
     "iopub.status.idle": "2022-06-23T20:55:03.811520Z",
     "shell.execute_reply": "2022-06-23T20:55:03.810628Z",
     "shell.execute_reply.started": "2022-06-23T20:55:03.530447Z"
    }
   },
   "outputs": [
    {
     "name": "stdout",
     "output_type": "stream",
     "text": [
      "Model: \"model_1\"\n",
      "__________________________________________________________________________________________________\n",
      " Layer (type)                   Output Shape         Param #     Connected to                     \n",
      "==================================================================================================\n",
      " input_2 (InputLayer)           [(None, 256, 256, 3  0           []                               \n",
      "                                )]                                                                \n",
      "                                                                                                  \n",
      " conv2d_6 (Conv2D)              (None, 256, 256, 64  9472        ['input_2[0][0]']                \n",
      "                                )                                                                 \n",
      "                                                                                                  \n",
      " instance_normalization_4 (Inst  (None, 256, 256, 64  128        ['conv2d_6[0][0]']               \n",
      " anceNormalization)             )                                                                 \n",
      "                                                                                                  \n",
      " activation (Activation)        (None, 256, 256, 64  0           ['instance_normalization_4[0][0]'\n",
      "                                )                                ]                                \n",
      "                                                                                                  \n",
      " conv2d_7 (Conv2D)              (None, 128, 128, 12  73856       ['activation[0][0]']             \n",
      "                                8)                                                                \n",
      "                                                                                                  \n",
      " instance_normalization_5 (Inst  (None, 128, 128, 12  256        ['conv2d_7[0][0]']               \n",
      " anceNormalization)             8)                                                                \n",
      "                                                                                                  \n",
      " activation_1 (Activation)      (None, 128, 128, 12  0           ['instance_normalization_5[0][0]'\n",
      "                                8)                               ]                                \n",
      "                                                                                                  \n",
      " conv2d_8 (Conv2D)              (None, 64, 64, 256)  295168      ['activation_1[0][0]']           \n",
      "                                                                                                  \n",
      " instance_normalization_6 (Inst  (None, 64, 64, 256)  512        ['conv2d_8[0][0]']               \n",
      " anceNormalization)                                                                               \n",
      "                                                                                                  \n",
      " activation_2 (Activation)      (None, 64, 64, 256)  0           ['instance_normalization_6[0][0]'\n",
      "                                                                 ]                                \n",
      "                                                                                                  \n",
      " conv2d_9 (Conv2D)              (None, 64, 64, 256)  590080      ['activation_2[0][0]']           \n",
      "                                                                                                  \n",
      " instance_normalization_7 (Inst  (None, 64, 64, 256)  512        ['conv2d_9[0][0]']               \n",
      " anceNormalization)                                                                               \n",
      "                                                                                                  \n",
      " activation_3 (Activation)      (None, 64, 64, 256)  0           ['instance_normalization_7[0][0]'\n",
      "                                                                 ]                                \n",
      "                                                                                                  \n",
      " conv2d_10 (Conv2D)             (None, 64, 64, 256)  590080      ['activation_3[0][0]']           \n",
      "                                                                                                  \n",
      " instance_normalization_8 (Inst  (None, 64, 64, 256)  512        ['conv2d_10[0][0]']              \n",
      " anceNormalization)                                                                               \n",
      "                                                                                                  \n",
      " concatenate (Concatenate)      (None, 64, 64, 512)  0           ['instance_normalization_8[0][0]'\n",
      "                                                                 , 'activation_2[0][0]']          \n",
      "                                                                                                  \n",
      " conv2d_11 (Conv2D)             (None, 64, 64, 256)  1179904     ['concatenate[0][0]']            \n",
      "                                                                                                  \n",
      " instance_normalization_9 (Inst  (None, 64, 64, 256)  512        ['conv2d_11[0][0]']              \n",
      " anceNormalization)                                                                               \n",
      "                                                                                                  \n",
      " activation_4 (Activation)      (None, 64, 64, 256)  0           ['instance_normalization_9[0][0]'\n",
      "                                                                 ]                                \n",
      "                                                                                                  \n",
      " conv2d_12 (Conv2D)             (None, 64, 64, 256)  590080      ['activation_4[0][0]']           \n",
      "                                                                                                  \n",
      " instance_normalization_10 (Ins  (None, 64, 64, 256)  512        ['conv2d_12[0][0]']              \n",
      " tanceNormalization)                                                                              \n",
      "                                                                                                  \n",
      " concatenate_1 (Concatenate)    (None, 64, 64, 768)  0           ['instance_normalization_10[0][0]\n",
      "                                                                 ',                               \n",
      "                                                                  'concatenate[0][0]']            \n",
      "                                                                                                  \n",
      " conv2d_13 (Conv2D)             (None, 64, 64, 256)  1769728     ['concatenate_1[0][0]']          \n",
      "                                                                                                  \n",
      " instance_normalization_11 (Ins  (None, 64, 64, 256)  512        ['conv2d_13[0][0]']              \n",
      " tanceNormalization)                                                                              \n",
      "                                                                                                  \n",
      " activation_5 (Activation)      (None, 64, 64, 256)  0           ['instance_normalization_11[0][0]\n",
      "                                                                 ']                               \n",
      "                                                                                                  \n",
      " conv2d_14 (Conv2D)             (None, 64, 64, 256)  590080      ['activation_5[0][0]']           \n",
      "                                                                                                  \n",
      " instance_normalization_12 (Ins  (None, 64, 64, 256)  512        ['conv2d_14[0][0]']              \n",
      " tanceNormalization)                                                                              \n",
      "                                                                                                  \n",
      " concatenate_2 (Concatenate)    (None, 64, 64, 1024  0           ['instance_normalization_12[0][0]\n",
      "                                )                                ',                               \n",
      "                                                                  'concatenate_1[0][0]']          \n",
      "                                                                                                  \n",
      " conv2d_15 (Conv2D)             (None, 64, 64, 256)  2359552     ['concatenate_2[0][0]']          \n",
      "                                                                                                  \n",
      " instance_normalization_13 (Ins  (None, 64, 64, 256)  512        ['conv2d_15[0][0]']              \n",
      " tanceNormalization)                                                                              \n",
      "                                                                                                  \n",
      " activation_6 (Activation)      (None, 64, 64, 256)  0           ['instance_normalization_13[0][0]\n",
      "                                                                 ']                               \n",
      "                                                                                                  \n",
      " conv2d_16 (Conv2D)             (None, 64, 64, 256)  590080      ['activation_6[0][0]']           \n",
      "                                                                                                  \n",
      " instance_normalization_14 (Ins  (None, 64, 64, 256)  512        ['conv2d_16[0][0]']              \n",
      " tanceNormalization)                                                                              \n",
      "                                                                                                  \n",
      " concatenate_3 (Concatenate)    (None, 64, 64, 1280  0           ['instance_normalization_14[0][0]\n",
      "                                )                                ',                               \n",
      "                                                                  'concatenate_2[0][0]']          \n",
      "                                                                                                  \n",
      " conv2d_17 (Conv2D)             (None, 64, 64, 256)  2949376     ['concatenate_3[0][0]']          \n",
      "                                                                                                  \n",
      " instance_normalization_15 (Ins  (None, 64, 64, 256)  512        ['conv2d_17[0][0]']              \n",
      " tanceNormalization)                                                                              \n",
      "                                                                                                  \n",
      " activation_7 (Activation)      (None, 64, 64, 256)  0           ['instance_normalization_15[0][0]\n",
      "                                                                 ']                               \n",
      "                                                                                                  \n",
      " conv2d_18 (Conv2D)             (None, 64, 64, 256)  590080      ['activation_7[0][0]']           \n",
      "                                                                                                  \n",
      " instance_normalization_16 (Ins  (None, 64, 64, 256)  512        ['conv2d_18[0][0]']              \n",
      " tanceNormalization)                                                                              \n",
      "                                                                                                  \n",
      " concatenate_4 (Concatenate)    (None, 64, 64, 1536  0           ['instance_normalization_16[0][0]\n",
      "                                )                                ',                               \n",
      "                                                                  'concatenate_3[0][0]']          \n",
      "                                                                                                  \n",
      " conv2d_19 (Conv2D)             (None, 64, 64, 256)  3539200     ['concatenate_4[0][0]']          \n",
      "                                                                                                  \n",
      " instance_normalization_17 (Ins  (None, 64, 64, 256)  512        ['conv2d_19[0][0]']              \n",
      " tanceNormalization)                                                                              \n",
      "                                                                                                  \n",
      " activation_8 (Activation)      (None, 64, 64, 256)  0           ['instance_normalization_17[0][0]\n",
      "                                                                 ']                               \n",
      "                                                                                                  \n",
      " conv2d_20 (Conv2D)             (None, 64, 64, 256)  590080      ['activation_8[0][0]']           \n",
      "                                                                                                  \n",
      " instance_normalization_18 (Ins  (None, 64, 64, 256)  512        ['conv2d_20[0][0]']              \n",
      " tanceNormalization)                                                                              \n",
      "                                                                                                  \n",
      " concatenate_5 (Concatenate)    (None, 64, 64, 1792  0           ['instance_normalization_18[0][0]\n",
      "                                )                                ',                               \n",
      "                                                                  'concatenate_4[0][0]']          \n",
      "                                                                                                  \n",
      " conv2d_21 (Conv2D)             (None, 64, 64, 256)  4129024     ['concatenate_5[0][0]']          \n",
      "                                                                                                  \n",
      " instance_normalization_19 (Ins  (None, 64, 64, 256)  512        ['conv2d_21[0][0]']              \n",
      " tanceNormalization)                                                                              \n",
      "                                                                                                  \n",
      " activation_9 (Activation)      (None, 64, 64, 256)  0           ['instance_normalization_19[0][0]\n",
      "                                                                 ']                               \n",
      "                                                                                                  \n",
      " conv2d_22 (Conv2D)             (None, 64, 64, 256)  590080      ['activation_9[0][0]']           \n",
      "                                                                                                  \n",
      " instance_normalization_20 (Ins  (None, 64, 64, 256)  512        ['conv2d_22[0][0]']              \n",
      " tanceNormalization)                                                                              \n",
      "                                                                                                  \n",
      " concatenate_6 (Concatenate)    (None, 64, 64, 2048  0           ['instance_normalization_20[0][0]\n",
      "                                )                                ',                               \n",
      "                                                                  'concatenate_5[0][0]']          \n",
      "                                                                                                  \n",
      " conv2d_23 (Conv2D)             (None, 64, 64, 256)  4718848     ['concatenate_6[0][0]']          \n",
      "                                                                                                  \n",
      " instance_normalization_21 (Ins  (None, 64, 64, 256)  512        ['conv2d_23[0][0]']              \n",
      " tanceNormalization)                                                                              \n",
      "                                                                                                  \n",
      " activation_10 (Activation)     (None, 64, 64, 256)  0           ['instance_normalization_21[0][0]\n",
      "                                                                 ']                               \n",
      "                                                                                                  \n",
      " conv2d_24 (Conv2D)             (None, 64, 64, 256)  590080      ['activation_10[0][0]']          \n",
      "                                                                                                  \n",
      " instance_normalization_22 (Ins  (None, 64, 64, 256)  512        ['conv2d_24[0][0]']              \n",
      " tanceNormalization)                                                                              \n",
      "                                                                                                  \n",
      " concatenate_7 (Concatenate)    (None, 64, 64, 2304  0           ['instance_normalization_22[0][0]\n",
      "                                )                                ',                               \n",
      "                                                                  'concatenate_6[0][0]']          \n",
      "                                                                                                  \n",
      " conv2d_25 (Conv2D)             (None, 64, 64, 256)  5308672     ['concatenate_7[0][0]']          \n",
      "                                                                                                  \n",
      " instance_normalization_23 (Ins  (None, 64, 64, 256)  512        ['conv2d_25[0][0]']              \n",
      " tanceNormalization)                                                                              \n",
      "                                                                                                  \n",
      " activation_11 (Activation)     (None, 64, 64, 256)  0           ['instance_normalization_23[0][0]\n",
      "                                                                 ']                               \n",
      "                                                                                                  \n",
      " conv2d_26 (Conv2D)             (None, 64, 64, 256)  590080      ['activation_11[0][0]']          \n",
      "                                                                                                  \n",
      " instance_normalization_24 (Ins  (None, 64, 64, 256)  512        ['conv2d_26[0][0]']              \n",
      " tanceNormalization)                                                                              \n",
      "                                                                                                  \n",
      " concatenate_8 (Concatenate)    (None, 64, 64, 2560  0           ['instance_normalization_24[0][0]\n",
      "                                )                                ',                               \n",
      "                                                                  'concatenate_7[0][0]']          \n",
      "                                                                                                  \n",
      " conv2d_transpose (Conv2DTransp  (None, 128, 128, 12  2949248    ['concatenate_8[0][0]']          \n",
      " ose)                           8)                                                                \n",
      "                                                                                                  \n",
      " instance_normalization_25 (Ins  (None, 128, 128, 12  256        ['conv2d_transpose[0][0]']       \n",
      " tanceNormalization)            8)                                                                \n",
      "                                                                                                  \n",
      " activation_12 (Activation)     (None, 128, 128, 12  0           ['instance_normalization_25[0][0]\n",
      "                                8)                               ']                               \n",
      "                                                                                                  \n",
      " conv2d_transpose_1 (Conv2DTran  (None, 256, 256, 64  73792      ['activation_12[0][0]']          \n",
      " spose)                         )                                                                 \n",
      "                                                                                                  \n",
      " instance_normalization_26 (Ins  (None, 256, 256, 64  128        ['conv2d_transpose_1[0][0]']     \n",
      " tanceNormalization)            )                                                                 \n",
      "                                                                                                  \n",
      " activation_13 (Activation)     (None, 256, 256, 64  0           ['instance_normalization_26[0][0]\n",
      "                                )                                ']                               \n",
      "                                                                                                  \n",
      " conv2d_27 (Conv2D)             (None, 256, 256, 3)  9411        ['activation_13[0][0]']          \n",
      "                                                                                                  \n",
      " instance_normalization_27 (Ins  (None, 256, 256, 3)  6          ['conv2d_27[0][0]']              \n",
      " tanceNormalization)                                                                              \n",
      "                                                                                                  \n",
      " activation_14 (Activation)     (None, 256, 256, 3)  0           ['instance_normalization_27[0][0]\n",
      "                                                                 ']                               \n",
      "                                                                                                  \n",
      "==================================================================================================\n",
      "Total params: 35,276,553\n",
      "Trainable params: 35,276,553\n",
      "Non-trainable params: 0\n",
      "__________________________________________________________________________________________________\n"
     ]
    }
   ],
   "source": [
    "# define the discriminator model\n",
    "def define_discriminator(image_shape):\n",
    "    # weight initialization\n",
    "    init = RandomNormal(stddev=0.02)\n",
    "    # source image input\n",
    "    in_image = Input(shape=image_shape)\n",
    "    # C64\n",
    "    d = Conv2D(64, (4,4), strides=(2,2), padding='same', kernel_initializer=init)(in_image)\n",
    "    d = LeakyReLU(alpha=0.2)(d)\n",
    "    # C128\n",
    "    d = Conv2D(128, (4,4), strides=(2,2), padding='same', kernel_initializer=init)(d)\n",
    "    d = InstanceNormalization(axis=-1)(d)\n",
    "    d = LeakyReLU(alpha=0.2)(d)\n",
    "    # C256\n",
    "    d = Conv2D(256, (4,4), strides=(2,2), padding='same', kernel_initializer=init)(d)\n",
    "    d = InstanceNormalization(axis=-1)(d)\n",
    "    d = LeakyReLU(alpha=0.2)(d)\n",
    "    # C512\n",
    "    d = Conv2D(512, (4,4), strides=(2,2), padding='same', kernel_initializer=init)(d)\n",
    "    d = InstanceNormalization(axis=-1)(d)\n",
    "    d = LeakyReLU(alpha=0.2)(d)\n",
    "    # second last output layer\n",
    "    d = Conv2D(512, (4,4), padding='same', kernel_initializer=init)(d)\n",
    "    d = InstanceNormalization(axis=-1)(d)\n",
    "    d = LeakyReLU(alpha=0.2)(d)\n",
    "    # patch output\n",
    "    patch_out = Conv2D(1, (4,4), padding='same', kernel_initializer=init)(d)\n",
    "    # define model\n",
    "    model = Model(in_image, patch_out)\n",
    "    # compile model\n",
    "    model.compile(loss='mse', optimizer=Adam(learning_rate=0.0002, beta_1=0.5), loss_weights=[0.5])\n",
    "    return model\n",
    "\n",
    "# define image shape\n",
    "image_shape = (256,256,3)\n",
    "\n",
    "# create the model\n",
    "discriminator_x = define_discriminator(image_shape)\n",
    "discriminator_y = define_discriminator(image_shape)\n",
    "\n",
    "\n",
    "# summarize the model\n",
    "model.summary()"
   ]
  },
  {
   "cell_type": "code",
   "execution_count": 14,
   "id": "a2cc51e2-0684-4bf7-a999-73f71470752b",
   "metadata": {
    "execution": {
     "iopub.execute_input": "2022-06-23T20:55:17.997590Z",
     "iopub.status.busy": "2022-06-23T20:55:17.997297Z",
     "iopub.status.idle": "2022-06-23T20:55:19.406051Z",
     "shell.execute_reply": "2022-06-23T20:55:19.403834Z",
     "shell.execute_reply.started": "2022-06-23T20:55:17.997562Z"
    }
   },
   "outputs": [
    {
     "name": "stdout",
     "output_type": "stream",
     "text": [
      "Model: \"model_1\"\n",
      "__________________________________________________________________________________________________\n",
      " Layer (type)                   Output Shape         Param #     Connected to                     \n",
      "==================================================================================================\n",
      " input_2 (InputLayer)           [(None, 256, 256, 3  0           []                               \n",
      "                                )]                                                                \n",
      "                                                                                                  \n",
      " conv2d_6 (Conv2D)              (None, 256, 256, 64  9472        ['input_2[0][0]']                \n",
      "                                )                                                                 \n",
      "                                                                                                  \n",
      " instance_normalization_4 (Inst  (None, 256, 256, 64  128        ['conv2d_6[0][0]']               \n",
      " anceNormalization)             )                                                                 \n",
      "                                                                                                  \n",
      " activation (Activation)        (None, 256, 256, 64  0           ['instance_normalization_4[0][0]'\n",
      "                                )                                ]                                \n",
      "                                                                                                  \n",
      " conv2d_7 (Conv2D)              (None, 128, 128, 12  73856       ['activation[0][0]']             \n",
      "                                8)                                                                \n",
      "                                                                                                  \n",
      " instance_normalization_5 (Inst  (None, 128, 128, 12  256        ['conv2d_7[0][0]']               \n",
      " anceNormalization)             8)                                                                \n",
      "                                                                                                  \n",
      " activation_1 (Activation)      (None, 128, 128, 12  0           ['instance_normalization_5[0][0]'\n",
      "                                8)                               ]                                \n",
      "                                                                                                  \n",
      " conv2d_8 (Conv2D)              (None, 64, 64, 256)  295168      ['activation_1[0][0]']           \n",
      "                                                                                                  \n",
      " instance_normalization_6 (Inst  (None, 64, 64, 256)  512        ['conv2d_8[0][0]']               \n",
      " anceNormalization)                                                                               \n",
      "                                                                                                  \n",
      " activation_2 (Activation)      (None, 64, 64, 256)  0           ['instance_normalization_6[0][0]'\n",
      "                                                                 ]                                \n",
      "                                                                                                  \n",
      " conv2d_9 (Conv2D)              (None, 64, 64, 256)  590080      ['activation_2[0][0]']           \n",
      "                                                                                                  \n",
      " instance_normalization_7 (Inst  (None, 64, 64, 256)  512        ['conv2d_9[0][0]']               \n",
      " anceNormalization)                                                                               \n",
      "                                                                                                  \n",
      " activation_3 (Activation)      (None, 64, 64, 256)  0           ['instance_normalization_7[0][0]'\n",
      "                                                                 ]                                \n",
      "                                                                                                  \n",
      " conv2d_10 (Conv2D)             (None, 64, 64, 256)  590080      ['activation_3[0][0]']           \n",
      "                                                                                                  \n",
      " instance_normalization_8 (Inst  (None, 64, 64, 256)  512        ['conv2d_10[0][0]']              \n",
      " anceNormalization)                                                                               \n",
      "                                                                                                  \n",
      " concatenate (Concatenate)      (None, 64, 64, 512)  0           ['instance_normalization_8[0][0]'\n",
      "                                                                 , 'activation_2[0][0]']          \n",
      "                                                                                                  \n",
      " conv2d_11 (Conv2D)             (None, 64, 64, 256)  1179904     ['concatenate[0][0]']            \n",
      "                                                                                                  \n",
      " instance_normalization_9 (Inst  (None, 64, 64, 256)  512        ['conv2d_11[0][0]']              \n",
      " anceNormalization)                                                                               \n",
      "                                                                                                  \n",
      " activation_4 (Activation)      (None, 64, 64, 256)  0           ['instance_normalization_9[0][0]'\n",
      "                                                                 ]                                \n",
      "                                                                                                  \n",
      " conv2d_12 (Conv2D)             (None, 64, 64, 256)  590080      ['activation_4[0][0]']           \n",
      "                                                                                                  \n",
      " instance_normalization_10 (Ins  (None, 64, 64, 256)  512        ['conv2d_12[0][0]']              \n",
      " tanceNormalization)                                                                              \n",
      "                                                                                                  \n",
      " concatenate_1 (Concatenate)    (None, 64, 64, 768)  0           ['instance_normalization_10[0][0]\n",
      "                                                                 ',                               \n",
      "                                                                  'concatenate[0][0]']            \n",
      "                                                                                                  \n",
      " conv2d_13 (Conv2D)             (None, 64, 64, 256)  1769728     ['concatenate_1[0][0]']          \n",
      "                                                                                                  \n",
      " instance_normalization_11 (Ins  (None, 64, 64, 256)  512        ['conv2d_13[0][0]']              \n",
      " tanceNormalization)                                                                              \n",
      "                                                                                                  \n",
      " activation_5 (Activation)      (None, 64, 64, 256)  0           ['instance_normalization_11[0][0]\n",
      "                                                                 ']                               \n",
      "                                                                                                  \n",
      " conv2d_14 (Conv2D)             (None, 64, 64, 256)  590080      ['activation_5[0][0]']           \n",
      "                                                                                                  \n",
      " instance_normalization_12 (Ins  (None, 64, 64, 256)  512        ['conv2d_14[0][0]']              \n",
      " tanceNormalization)                                                                              \n",
      "                                                                                                  \n",
      " concatenate_2 (Concatenate)    (None, 64, 64, 1024  0           ['instance_normalization_12[0][0]\n",
      "                                )                                ',                               \n",
      "                                                                  'concatenate_1[0][0]']          \n",
      "                                                                                                  \n",
      " conv2d_15 (Conv2D)             (None, 64, 64, 256)  2359552     ['concatenate_2[0][0]']          \n",
      "                                                                                                  \n",
      " instance_normalization_13 (Ins  (None, 64, 64, 256)  512        ['conv2d_15[0][0]']              \n",
      " tanceNormalization)                                                                              \n",
      "                                                                                                  \n",
      " activation_6 (Activation)      (None, 64, 64, 256)  0           ['instance_normalization_13[0][0]\n",
      "                                                                 ']                               \n",
      "                                                                                                  \n",
      " conv2d_16 (Conv2D)             (None, 64, 64, 256)  590080      ['activation_6[0][0]']           \n",
      "                                                                                                  \n",
      " instance_normalization_14 (Ins  (None, 64, 64, 256)  512        ['conv2d_16[0][0]']              \n",
      " tanceNormalization)                                                                              \n",
      "                                                                                                  \n",
      " concatenate_3 (Concatenate)    (None, 64, 64, 1280  0           ['instance_normalization_14[0][0]\n",
      "                                )                                ',                               \n",
      "                                                                  'concatenate_2[0][0]']          \n",
      "                                                                                                  \n",
      " conv2d_17 (Conv2D)             (None, 64, 64, 256)  2949376     ['concatenate_3[0][0]']          \n",
      "                                                                                                  \n",
      " instance_normalization_15 (Ins  (None, 64, 64, 256)  512        ['conv2d_17[0][0]']              \n",
      " tanceNormalization)                                                                              \n",
      "                                                                                                  \n",
      " activation_7 (Activation)      (None, 64, 64, 256)  0           ['instance_normalization_15[0][0]\n",
      "                                                                 ']                               \n",
      "                                                                                                  \n",
      " conv2d_18 (Conv2D)             (None, 64, 64, 256)  590080      ['activation_7[0][0]']           \n",
      "                                                                                                  \n",
      " instance_normalization_16 (Ins  (None, 64, 64, 256)  512        ['conv2d_18[0][0]']              \n",
      " tanceNormalization)                                                                              \n",
      "                                                                                                  \n",
      " concatenate_4 (Concatenate)    (None, 64, 64, 1536  0           ['instance_normalization_16[0][0]\n",
      "                                )                                ',                               \n",
      "                                                                  'concatenate_3[0][0]']          \n",
      "                                                                                                  \n",
      " conv2d_19 (Conv2D)             (None, 64, 64, 256)  3539200     ['concatenate_4[0][0]']          \n",
      "                                                                                                  \n",
      " instance_normalization_17 (Ins  (None, 64, 64, 256)  512        ['conv2d_19[0][0]']              \n",
      " tanceNormalization)                                                                              \n",
      "                                                                                                  \n",
      " activation_8 (Activation)      (None, 64, 64, 256)  0           ['instance_normalization_17[0][0]\n",
      "                                                                 ']                               \n",
      "                                                                                                  \n",
      " conv2d_20 (Conv2D)             (None, 64, 64, 256)  590080      ['activation_8[0][0]']           \n",
      "                                                                                                  \n",
      " instance_normalization_18 (Ins  (None, 64, 64, 256)  512        ['conv2d_20[0][0]']              \n",
      " tanceNormalization)                                                                              \n",
      "                                                                                                  \n",
      " concatenate_5 (Concatenate)    (None, 64, 64, 1792  0           ['instance_normalization_18[0][0]\n",
      "                                )                                ',                               \n",
      "                                                                  'concatenate_4[0][0]']          \n",
      "                                                                                                  \n",
      " conv2d_21 (Conv2D)             (None, 64, 64, 256)  4129024     ['concatenate_5[0][0]']          \n",
      "                                                                                                  \n",
      " instance_normalization_19 (Ins  (None, 64, 64, 256)  512        ['conv2d_21[0][0]']              \n",
      " tanceNormalization)                                                                              \n",
      "                                                                                                  \n",
      " activation_9 (Activation)      (None, 64, 64, 256)  0           ['instance_normalization_19[0][0]\n",
      "                                                                 ']                               \n",
      "                                                                                                  \n",
      " conv2d_22 (Conv2D)             (None, 64, 64, 256)  590080      ['activation_9[0][0]']           \n",
      "                                                                                                  \n",
      " instance_normalization_20 (Ins  (None, 64, 64, 256)  512        ['conv2d_22[0][0]']              \n",
      " tanceNormalization)                                                                              \n",
      "                                                                                                  \n",
      " concatenate_6 (Concatenate)    (None, 64, 64, 2048  0           ['instance_normalization_20[0][0]\n",
      "                                )                                ',                               \n",
      "                                                                  'concatenate_5[0][0]']          \n",
      "                                                                                                  \n",
      " conv2d_23 (Conv2D)             (None, 64, 64, 256)  4718848     ['concatenate_6[0][0]']          \n",
      "                                                                                                  \n",
      " instance_normalization_21 (Ins  (None, 64, 64, 256)  512        ['conv2d_23[0][0]']              \n",
      " tanceNormalization)                                                                              \n",
      "                                                                                                  \n",
      " activation_10 (Activation)     (None, 64, 64, 256)  0           ['instance_normalization_21[0][0]\n",
      "                                                                 ']                               \n",
      "                                                                                                  \n",
      " conv2d_24 (Conv2D)             (None, 64, 64, 256)  590080      ['activation_10[0][0]']          \n",
      "                                                                                                  \n",
      " instance_normalization_22 (Ins  (None, 64, 64, 256)  512        ['conv2d_24[0][0]']              \n",
      " tanceNormalization)                                                                              \n",
      "                                                                                                  \n",
      " concatenate_7 (Concatenate)    (None, 64, 64, 2304  0           ['instance_normalization_22[0][0]\n",
      "                                )                                ',                               \n",
      "                                                                  'concatenate_6[0][0]']          \n",
      "                                                                                                  \n",
      " conv2d_25 (Conv2D)             (None, 64, 64, 256)  5308672     ['concatenate_7[0][0]']          \n",
      "                                                                                                  \n",
      " instance_normalization_23 (Ins  (None, 64, 64, 256)  512        ['conv2d_25[0][0]']              \n",
      " tanceNormalization)                                                                              \n",
      "                                                                                                  \n",
      " activation_11 (Activation)     (None, 64, 64, 256)  0           ['instance_normalization_23[0][0]\n",
      "                                                                 ']                               \n",
      "                                                                                                  \n",
      " conv2d_26 (Conv2D)             (None, 64, 64, 256)  590080      ['activation_11[0][0]']          \n",
      "                                                                                                  \n",
      " instance_normalization_24 (Ins  (None, 64, 64, 256)  512        ['conv2d_26[0][0]']              \n",
      " tanceNormalization)                                                                              \n",
      "                                                                                                  \n",
      " concatenate_8 (Concatenate)    (None, 64, 64, 2560  0           ['instance_normalization_24[0][0]\n",
      "                                )                                ',                               \n",
      "                                                                  'concatenate_7[0][0]']          \n",
      "                                                                                                  \n",
      " conv2d_transpose (Conv2DTransp  (None, 128, 128, 12  2949248    ['concatenate_8[0][0]']          \n",
      " ose)                           8)                                                                \n",
      "                                                                                                  \n",
      " instance_normalization_25 (Ins  (None, 128, 128, 12  256        ['conv2d_transpose[0][0]']       \n",
      " tanceNormalization)            8)                                                                \n",
      "                                                                                                  \n",
      " activation_12 (Activation)     (None, 128, 128, 12  0           ['instance_normalization_25[0][0]\n",
      "                                8)                               ']                               \n",
      "                                                                                                  \n",
      " conv2d_transpose_1 (Conv2DTran  (None, 256, 256, 64  73792      ['activation_12[0][0]']          \n",
      " spose)                         )                                                                 \n",
      "                                                                                                  \n",
      " instance_normalization_26 (Ins  (None, 256, 256, 64  128        ['conv2d_transpose_1[0][0]']     \n",
      " tanceNormalization)            )                                                                 \n",
      "                                                                                                  \n",
      " activation_13 (Activation)     (None, 256, 256, 64  0           ['instance_normalization_26[0][0]\n",
      "                                )                                ']                               \n",
      "                                                                                                  \n",
      " conv2d_27 (Conv2D)             (None, 256, 256, 3)  9411        ['activation_13[0][0]']          \n",
      "                                                                                                  \n",
      " instance_normalization_27 (Ins  (None, 256, 256, 3)  6          ['conv2d_27[0][0]']              \n",
      " tanceNormalization)                                                                              \n",
      "                                                                                                  \n",
      " activation_14 (Activation)     (None, 256, 256, 3)  0           ['instance_normalization_27[0][0]\n",
      "                                                                 ']                               \n",
      "                                                                                                  \n",
      "==================================================================================================\n",
      "Total params: 35,276,553\n",
      "Trainable params: 35,276,553\n",
      "Non-trainable params: 0\n",
      "__________________________________________________________________________________________________\n"
     ]
    }
   ],
   "source": [
    "# generator a resnet block\n",
    "def resnet_block(n_filters, input_layer):\n",
    "    # weight initialization\n",
    "    init = RandomNormal(stddev=0.02)\n",
    "    # first layer convolutional layer\n",
    "    g = Conv2D(n_filters, (3,3), padding='same', kernel_initializer=init)(input_layer)\n",
    "    g = InstanceNormalization(axis=-1)(g)\n",
    "    g = Activation('relu')(g)\n",
    "    # second convolutional layer\n",
    "    g = Conv2D(n_filters, (3,3), padding='same', kernel_initializer=init)(g)\n",
    "    g = InstanceNormalization(axis=-1)(g)\n",
    "    # concatenate merge channel-wise with input layer\n",
    "    g = Concatenate()([g, input_layer])\n",
    "    return g\n",
    "\n",
    "# define the standalone generator model\n",
    "def define_generator(image_shape=(256, 256, 3), n_resnet=9):\n",
    "    # weight initialization\n",
    "    init = RandomNormal(stddev=0.02)\n",
    "    # image input\n",
    "    in_image = Input(shape=image_shape)\n",
    "    # c7s1-64\n",
    "    g = Conv2D(64, (7,7), padding='same', kernel_initializer=init)(in_image)\n",
    "    g = InstanceNormalization(axis=-1)(g)\n",
    "    g = Activation('relu')(g)\n",
    "    # d128\n",
    "    g = Conv2D(128, (3,3), strides=(2,2), padding='same', kernel_initializer=init)(g)\n",
    "    g = InstanceNormalization(axis=-1)(g)\n",
    "    g = Activation('relu')(g)\n",
    "    # d256\n",
    "    g = Conv2D(256, (3,3), strides=(2,2), padding='same', kernel_initializer=init)(g)\n",
    "    g = InstanceNormalization(axis=-1)(g)\n",
    "    g = Activation('relu')(g)\n",
    "    # R256\n",
    "    for _ in range(n_resnet):\n",
    "        g = resnet_block(256, g)\n",
    "    # u128\n",
    "    g = Conv2DTranspose(128, (3,3), strides=(2,2), padding='same', kernel_initializer=init)(g)\n",
    "    g = InstanceNormalization(axis=-1)(g)\n",
    "    g = Activation('relu')(g)\n",
    "    # u64\n",
    "    g = Conv2DTranspose(64, (3,3), strides=(2,2), padding='same', kernel_initializer=init)(g)\n",
    "    g = InstanceNormalization(axis=-1)(g)\n",
    "    g = Activation('relu')(g)\n",
    "    # c7s1-3\n",
    "    g = Conv2D(3, (7,7), padding='same', kernel_initializer=init)(g)\n",
    "    g = InstanceNormalization(axis=-1)(g)\n",
    "    out_image = Activation('tanh')(g)\n",
    "    # define model\n",
    "    model = Model(in_image, out_image)\n",
    "    return model\n",
    "\n",
    "# create the model\n",
    "generator_g = define_generator()\n",
    "generator_f = define_generator()\n",
    "# summarize the model\n",
    "model.summary()"
   ]
  },
  {
   "cell_type": "code",
   "execution_count": 15,
   "id": "0f4a36b0-1384-4e9d-8aa7-26c038e1936f",
   "metadata": {
    "execution": {
     "iopub.execute_input": "2022-06-23T20:55:20.213010Z",
     "iopub.status.busy": "2022-06-23T20:55:20.212705Z",
     "iopub.status.idle": "2022-06-23T20:55:20.222693Z",
     "shell.execute_reply": "2022-06-23T20:55:20.221564Z",
     "shell.execute_reply.started": "2022-06-23T20:55:20.212980Z"
    }
   },
   "outputs": [],
   "source": [
    "LAMBDA = 10\n",
    "\n",
    "loss_obj = tf.keras.losses.BinaryCrossentropy(from_logits=True)\n",
    "\n",
    "def discriminator_loss(real, generated):\n",
    "    real_loss = loss_obj(tf.ones_like(real), real)\n",
    "\n",
    "    generated_loss = loss_obj(tf.zeros_like(generated), generated)\n",
    "\n",
    "    total_disc_loss = real_loss + generated_loss\n",
    "\n",
    "    return total_disc_loss * 0.5\n",
    "\n",
    "def generator_loss(generated):\n",
    "    return loss_obj(tf.ones_like(generated), generated)\n",
    "\n",
    "def calc_cycle_loss(real_image, cycled_image):\n",
    "    loss1 = tf.reduce_mean(tf.abs(real_image - cycled_image))\n",
    "\n",
    "    return LAMBDA * loss1\n",
    "\n",
    "def identity_loss(real_image, same_image):\n",
    "    loss = tf.reduce_mean(tf.abs(real_image - same_image))\n",
    "    return LAMBDA * 0.5 * loss\n",
    "\n",
    "generator_g_optimizer = tf.keras.optimizers.Adam(2e-4, beta_1=0.5)\n",
    "generator_f_optimizer = tf.keras.optimizers.Adam(2e-4, beta_1=0.5)\n",
    "\n",
    "discriminator_x_optimizer = tf.keras.optimizers.Adam(2e-4, beta_1=0.5)\n",
    "discriminator_y_optimizer = tf.keras.optimizers.Adam(2e-4, beta_1=0.5)"
   ]
  },
  {
   "cell_type": "code",
   "execution_count": 16,
   "id": "b1d5c833-769e-4beb-9285-b472ef6cd517",
   "metadata": {
    "execution": {
     "iopub.execute_input": "2022-06-23T20:55:21.181230Z",
     "iopub.status.busy": "2022-06-23T20:55:21.180814Z",
     "iopub.status.idle": "2022-06-23T20:55:21.188661Z",
     "shell.execute_reply": "2022-06-23T20:55:21.187379Z",
     "shell.execute_reply.started": "2022-06-23T20:55:21.181190Z"
    }
   },
   "outputs": [],
   "source": [
    "checkpoint_path = \"./checkpoints/train\"\n",
    "\n",
    "ckpt = tf.train.Checkpoint(generator_g=generator_g,\n",
    "                           generator_f=generator_f,\n",
    "                           discriminator_x=discriminator_x,\n",
    "                           discriminator_y=discriminator_y,\n",
    "                           generator_g_optimizer=generator_g_optimizer,\n",
    "                           generator_f_optimizer=generator_f_optimizer,\n",
    "                           discriminator_x_optimizer=discriminator_x_optimizer,\n",
    "                           discriminator_y_optimizer=discriminator_y_optimizer)\n",
    "\n",
    "ckpt_manager = tf.train.CheckpointManager(ckpt, checkpoint_path, max_to_keep=5)\n",
    "\n",
    "# if a checkpoint exists, restore the latest checkpoint.\n",
    "if ckpt_manager.latest_checkpoint:\n",
    "    ckpt.restore(ckpt_manager.latest_checkpoint)\n",
    "    print ('Latest checkpoint restored!!')"
   ]
  },
  {
   "cell_type": "code",
   "execution_count": 17,
   "id": "1d9a09fa-9dd4-4c3d-9b3e-9287497006e0",
   "metadata": {
    "execution": {
     "iopub.execute_input": "2022-06-23T20:55:29.742597Z",
     "iopub.status.busy": "2022-06-23T20:55:29.742335Z",
     "iopub.status.idle": "2022-06-23T20:55:29.749672Z",
     "shell.execute_reply": "2022-06-23T20:55:29.748583Z",
     "shell.execute_reply.started": "2022-06-23T20:55:29.742571Z"
    }
   },
   "outputs": [],
   "source": [
    "EPOCHS = 50\n",
    "\n",
    "def generate_images(model, test_input):\n",
    "    prediction = model(test_input)\n",
    "\n",
    "    plt.figure(figsize=(12, 12))\n",
    "\n",
    "    display_list = [test_input[0], prediction[0]]\n",
    "    title = ['Input Image', 'Predicted Image']\n",
    "\n",
    "    for i in range(2):\n",
    "        plt.subplot(1, 2, i+1)\n",
    "        plt.title(title[i])\n",
    "        # getting the pixel values between [0, 1] to plot it.\n",
    "        plt.imshow(display_list[i] * 0.5 + 0.5)\n",
    "        plt.axis('off')\n",
    "    plt.show()"
   ]
  },
  {
   "cell_type": "code",
   "execution_count": 18,
   "id": "86d40baa-e14a-42c5-8135-9fecf117d0c0",
   "metadata": {
    "execution": {
     "iopub.execute_input": "2022-06-23T20:55:39.622393Z",
     "iopub.status.busy": "2022-06-23T20:55:39.621624Z",
     "iopub.status.idle": "2022-06-23T20:55:39.634240Z",
     "shell.execute_reply": "2022-06-23T20:55:39.631496Z",
     "shell.execute_reply.started": "2022-06-23T20:55:39.622365Z"
    }
   },
   "outputs": [],
   "source": [
    "@tf.function\n",
    "def train_step(real_x, real_y):\n",
    "  # persistent is set to True because the tape is used more than\n",
    "  # once to calculate the gradients.\n",
    "    with tf.GradientTape(persistent=True) as tape:\n",
    "        # Generator G translates X -> Y\n",
    "        # Generator F translates Y -> X.\n",
    "\n",
    "        fake_y = generator_g(real_x, training=True)\n",
    "        cycled_x = generator_f(fake_y, training=True)\n",
    "\n",
    "        fake_x = generator_f(real_y, training=True)\n",
    "        cycled_y = generator_g(fake_x, training=True)\n",
    "\n",
    "        # same_x and same_y are used for identity loss.\n",
    "        same_x = generator_f(real_x, training=True)\n",
    "        same_y = generator_g(real_y, training=True)\n",
    "\n",
    "        disc_real_x = discriminator_x(real_x, training=True)\n",
    "        disc_real_y = discriminator_y(real_y, training=True)\n",
    "\n",
    "        disc_fake_x = discriminator_x(fake_x, training=True)\n",
    "        disc_fake_y = discriminator_y(fake_y, training=True)\n",
    "\n",
    "        # calculate the loss\n",
    "        gen_g_loss = generator_loss(disc_fake_y)\n",
    "        gen_f_loss = generator_loss(disc_fake_x)\n",
    "\n",
    "        total_cycle_loss = calc_cycle_loss(real_x, cycled_x) + calc_cycle_loss(real_y, cycled_y)\n",
    "\n",
    "        # Total generator loss = adversarial loss + cycle loss\n",
    "        total_gen_g_loss = gen_g_loss + total_cycle_loss + identity_loss(real_y, same_y)\n",
    "        total_gen_f_loss = gen_f_loss + total_cycle_loss + identity_loss(real_x, same_x)\n",
    "\n",
    "        disc_x_loss = discriminator_loss(disc_real_x, disc_fake_x)\n",
    "        disc_y_loss = discriminator_loss(disc_real_y, disc_fake_y)\n",
    "\n",
    "    # Calculate the gradients for generator and discriminator\n",
    "    generator_g_gradients = tape.gradient(total_gen_g_loss, \n",
    "                                        generator_g.trainable_variables)\n",
    "    generator_f_gradients = tape.gradient(total_gen_f_loss, \n",
    "                                        generator_f.trainable_variables)\n",
    "\n",
    "    discriminator_x_gradients = tape.gradient(disc_x_loss, \n",
    "                                            discriminator_x.trainable_variables)\n",
    "    discriminator_y_gradients = tape.gradient(disc_y_loss, \n",
    "                                            discriminator_y.trainable_variables)\n",
    "\n",
    "    # Apply the gradients to the optimizer\n",
    "    generator_g_optimizer.apply_gradients(zip(generator_g_gradients, \n",
    "                                            generator_g.trainable_variables))\n",
    "\n",
    "    generator_f_optimizer.apply_gradients(zip(generator_f_gradients, \n",
    "                                            generator_f.trainable_variables))\n",
    "\n",
    "    discriminator_x_optimizer.apply_gradients(zip(discriminator_x_gradients,\n",
    "                                                discriminator_x.trainable_variables))\n",
    "\n",
    "    discriminator_y_optimizer.apply_gradients(zip(discriminator_y_gradients,\n",
    "                                                discriminator_y.trainable_variables))"
   ]
  },
  {
   "cell_type": "code",
   "execution_count": null,
   "id": "614c997e-8f79-4d39-8ce3-db093dcefaaa",
   "metadata": {
    "execution": {
     "iopub.execute_input": "2022-06-23T20:55:47.904876Z",
     "iopub.status.busy": "2022-06-23T20:55:47.904627Z"
    }
   },
   "outputs": [
    {
     "name": "stderr",
     "output_type": "stream",
     "text": [
      "2022-06-23 20:56:48.844116: I tensorflow/stream_executor/cuda/cuda_dnn.cc:377] Loaded cuDNN version 8302\n"
     ]
    },
    {
     "name": "stdout",
     "output_type": "stream",
     "text": [
      "..........."
     ]
    }
   ],
   "source": [
    "for epoch in range(EPOCHS):\n",
    "    start = time.time()\n",
    "\n",
    "    n = 0\n",
    "    for image_x, image_y in tf.data.Dataset.zip((train_horses, train_zebras)):\n",
    "        train_step(image_x, image_y)\n",
    "        if n % 10 == 0:\n",
    "            print ('.', end='')\n",
    "        n += 1\n",
    "\n",
    "    clear_output(wait=True)\n",
    "    # Using a consistent image (sample_horse) so that the progress of the model\n",
    "    # is clearly visible.\n",
    "    generate_images(generator_g, sample_horse)\n",
    "\n",
    "    if (epoch + 1) % 5 == 0:\n",
    "        ckpt_save_path = ckpt_manager.save()\n",
    "        print ('Saving checkpoint for epoch {} at {}'.format(epoch+1,\n",
    "                                                         ckpt_save_path))\n",
    "\n",
    "    print ('Time taken for epoch {} is {} sec\\n'.format(epoch + 1,\n",
    "                                                      time.time()-start))"
   ]
  },
  {
   "cell_type": "code",
   "execution_count": null,
   "id": "e6ff85f9-e404-4edd-89ed-4ad50b8c90cc",
   "metadata": {},
   "outputs": [],
   "source": []
  }
 ],
 "metadata": {
  "kernelspec": {
   "display_name": "Python 3 (ipykernel)",
   "language": "python",
   "name": "python3"
  },
  "language_info": {
   "codemirror_mode": {
    "name": "ipython",
    "version": 3
   },
   "file_extension": ".py",
   "mimetype": "text/x-python",
   "name": "python",
   "nbconvert_exporter": "python",
   "pygments_lexer": "ipython3",
   "version": "3.8.10"
  }
 },
 "nbformat": 4,
 "nbformat_minor": 5
}
